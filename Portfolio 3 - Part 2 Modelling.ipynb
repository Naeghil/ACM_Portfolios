{
 "cells": [
  {
   "cell_type": "code",
   "execution_count": 1,
   "metadata": {},
   "outputs": [],
   "source": [
    "%%capture\n",
    "!pip install arviz\n",
    "!pip install pymc3\n",
    "import arviz as az\n",
    "import matplotlib.pyplot as plt\n",
    "import numpy as np\n",
    "import pandas as pd\n",
    "import pymc3 as pm\n",
    "import seaborn as sns\n",
    "from pymc3 import math\n",
    "\n",
    "from scipy import stats"
   ]
  },
  {
   "cell_type": "code",
   "execution_count": 3,
   "metadata": {},
   "outputs": [],
   "source": [
    "#read in the files\n",
    "with open('c_no_punish.npy', 'rb') as f:\n",
    "    c_no_punish = np.load(f)\n",
    "\n",
    "with open('c_punish.npy', 'rb') as f:\n",
    "    c_punish = np.load(f)\n",
    "\n",
    "with open('c.npy', 'rb') as f:\n",
    "    c = np.load(f)\n",
    "\n",
    "with open('Ga_no_punish.npy', 'rb') as f:\n",
    "    Ga_no_punish = np.load(f)\n",
    "\n",
    "with open('Ga_punish.npy', 'rb') as f:\n",
    "    Ga_punish = np.load(f)\n",
    "\n",
    "with open('Ga.npy', 'rb') as f:\n",
    "    Ga = np.load(f)\n",
    "\n",
    "with open('Gc_no_punish.npy', 'rb') as f:\n",
    "    Gc_no_punish = np.load(f)\n",
    "\n",
    "with open('Gc_punish.npy', 'rb') as f:\n",
    "    Gc_punish = np.load(f)\n",
    "\n",
    "with open('Gc.npy', 'rb') as f:\n",
    "    Gc = np.load(f)\n",
    "\n",
    "with open('Gini.npy', 'rb') as f:\n",
    "    Gini = np.load(f)\n",
    "\n",
    "with open('c_choice_index.npy', 'rb') as f:\n",
    "    c_choice_index = np.load(f)\n"
   ]
  },
  {
   "cell_type": "code",
   "execution_count": 4,
   "metadata": {},
   "outputs": [],
   "source": [
    "groupSize = 4 # n people in groups\n",
    "ntrials = 10 #ntrials\n",
    "pi = 1.4\n",
    "ntokens = 20 # max value to contribute\n",
    "ngroups = 244\n",
    "vals = np.arange(0,21,1) # possible values to contribute - from 0 to 20 tokens"
   ]
  },
  {
   "cell_type": "code",
   "execution_count": 5,
   "metadata": {},
   "outputs": [],
   "source": [
    "df = []\n",
    "for person in range(0,4):\n",
    "    for trial in range (0,10):\n",
    "        for group in range (0,244):\n",
    "            df.append([person, trial, group, c[person, trial, group,0]])\n",
    "            \n",
    "df = pd.DataFrame(df, columns=['person', 'trial', 'group', 'value'])"
   ]
  },
  {
   "cell_type": "code",
   "execution_count": 6,
   "metadata": {},
   "outputs": [],
   "source": [
    "gini_df = pd.DataFrame(Gini,  columns=['gini'])"
   ]
  },
  {
   "cell_type": "code",
   "execution_count": 7,
   "metadata": {},
   "outputs": [],
   "source": [
    "gini_df['group'] = gini_df.index"
   ]
  },
  {
   "cell_type": "code",
   "execution_count": 8,
   "metadata": {},
   "outputs": [],
   "source": [
    "data = df.merge(gini_df, on='group', how='left')"
   ]
  },
  {
   "cell_type": "code",
   "execution_count": 9,
   "metadata": {},
   "outputs": [],
   "source": [
    "idx = pd.Categorical(data.person).codes\n",
    "groupx = pd.Categorical(data.group).codes\n",
    "trialx = pd.Categorical(data.trial).codes"
   ]
  },
  {
   "cell_type": "code",
   "execution_count": null,
   "metadata": {},
   "outputs": [],
   "source": [
    "#decay model\n",
    "\n",
    "with pm.Model() as decay_model:\n",
    "    beta0_c0 = pm.HalfNormal('beta0_c0', sigma =1)\n",
    "\n",
    "    betaGini_c0 = pm.Normal(' betaGini_c0', mu = 0, sigma = 1)\n",
    "\n",
    "    \n",
    "    beta0_gamma = pm.HalfNormal('beta0_gamma', sigma = 1)\n",
    "\n",
    "    betaGini_gamma = pm.Normal('betaGini_gamma', mu = 0, sigma = 1)\n",
    "\n",
    "\n",
    "    sigma_c = pm.Gamma('sigma_c', alpha = 1, beta = 1, shape = (4,244))\n",
    "    c_0 = pm.Deterministic('c_0', beta0_c0 + betaGini_c0 * Gini[groupx] )\n",
    "    gamma = pm.Deterministic('gamma', beta0_gamma+ (betaGini_gamma* Gini[groupx]))\n",
    "    mu_c = pm.Deterministic('mu_c',c_0[groupx] * pm.math.exp(-gamma[groupx] * data.trial))\n",
    "    c_person = pm.Normal('c_person', mu = mu_c[groupx], sigma = sigma_c[idx, groupx], observed = data.value, shape = (4, 244))\n",
    "    trace = pm.sample(return_inferencedata = True, chains=1, random_seed = 456)  "
   ]
  },
  {
   "cell_type": "code",
   "execution_count": 14,
   "metadata": {},
   "outputs": [
    {
     "data": {
      "text/html": [
       "<div>\n",
       "<style scoped>\n",
       "    .dataframe tbody tr th:only-of-type {\n",
       "        vertical-align: middle;\n",
       "    }\n",
       "\n",
       "    .dataframe tbody tr th {\n",
       "        vertical-align: top;\n",
       "    }\n",
       "\n",
       "    .dataframe thead th {\n",
       "        text-align: right;\n",
       "    }\n",
       "</style>\n",
       "<table border=\"1\" class=\"dataframe\">\n",
       "  <thead>\n",
       "    <tr style=\"text-align: right;\">\n",
       "      <th></th>\n",
       "      <th>mean</th>\n",
       "      <th>sd</th>\n",
       "      <th>hdi_3%</th>\n",
       "      <th>hdi_97%</th>\n",
       "      <th>mcse_mean</th>\n",
       "      <th>mcse_sd</th>\n",
       "      <th>ess_bulk</th>\n",
       "      <th>ess_tail</th>\n",
       "      <th>r_hat</th>\n",
       "    </tr>\n",
       "  </thead>\n",
       "  <tbody>\n",
       "    <tr>\n",
       "      <th>betaGini_c0</th>\n",
       "      <td>-1.740000e-01</td>\n",
       "      <td>0.015</td>\n",
       "      <td>-0.203</td>\n",
       "      <td>-1.470000e-01</td>\n",
       "      <td>0.001</td>\n",
       "      <td>0.000</td>\n",
       "      <td>631.0</td>\n",
       "      <td>734.0</td>\n",
       "      <td>NaN</td>\n",
       "    </tr>\n",
       "    <tr>\n",
       "      <th>betaGini_gamma</th>\n",
       "      <td>1.150000e-01</td>\n",
       "      <td>0.930</td>\n",
       "      <td>-1.524</td>\n",
       "      <td>1.851000e+00</td>\n",
       "      <td>0.035</td>\n",
       "      <td>0.032</td>\n",
       "      <td>692.0</td>\n",
       "      <td>434.0</td>\n",
       "      <td>NaN</td>\n",
       "    </tr>\n",
       "    <tr>\n",
       "      <th>beta0_c0</th>\n",
       "      <td>1.334300e+01</td>\n",
       "      <td>0.505</td>\n",
       "      <td>12.440</td>\n",
       "      <td>1.428800e+01</td>\n",
       "      <td>0.020</td>\n",
       "      <td>0.014</td>\n",
       "      <td>663.0</td>\n",
       "      <td>796.0</td>\n",
       "      <td>NaN</td>\n",
       "    </tr>\n",
       "    <tr>\n",
       "      <th>beta0_gamma</th>\n",
       "      <td>7.910000e-01</td>\n",
       "      <td>0.604</td>\n",
       "      <td>0.002</td>\n",
       "      <td>1.917000e+00</td>\n",
       "      <td>0.022</td>\n",
       "      <td>0.016</td>\n",
       "      <td>448.0</td>\n",
       "      <td>311.0</td>\n",
       "      <td>NaN</td>\n",
       "    </tr>\n",
       "    <tr>\n",
       "      <th>sigma_c[0,0]</th>\n",
       "      <td>7.493000e+00</td>\n",
       "      <td>1.267</td>\n",
       "      <td>5.254</td>\n",
       "      <td>9.921000e+00</td>\n",
       "      <td>0.041</td>\n",
       "      <td>0.029</td>\n",
       "      <td>985.0</td>\n",
       "      <td>678.0</td>\n",
       "      <td>NaN</td>\n",
       "    </tr>\n",
       "    <tr>\n",
       "      <th>...</th>\n",
       "      <td>...</td>\n",
       "      <td>...</td>\n",
       "      <td>...</td>\n",
       "      <td>...</td>\n",
       "      <td>...</td>\n",
       "      <td>...</td>\n",
       "      <td>...</td>\n",
       "      <td>...</td>\n",
       "      <td>...</td>\n",
       "    </tr>\n",
       "    <tr>\n",
       "      <th>mu_c[9755]</th>\n",
       "      <td>1.477999e+236</td>\n",
       "      <td>inf</td>\n",
       "      <td>0.000</td>\n",
       "      <td>8.148707e+160</td>\n",
       "      <td>NaN</td>\n",
       "      <td>NaN</td>\n",
       "      <td>693.0</td>\n",
       "      <td>412.0</td>\n",
       "      <td>NaN</td>\n",
       "    </tr>\n",
       "    <tr>\n",
       "      <th>mu_c[9756]</th>\n",
       "      <td>1.477999e+236</td>\n",
       "      <td>inf</td>\n",
       "      <td>0.000</td>\n",
       "      <td>8.148707e+160</td>\n",
       "      <td>NaN</td>\n",
       "      <td>NaN</td>\n",
       "      <td>693.0</td>\n",
       "      <td>412.0</td>\n",
       "      <td>NaN</td>\n",
       "    </tr>\n",
       "    <tr>\n",
       "      <th>mu_c[9757]</th>\n",
       "      <td>1.477999e+236</td>\n",
       "      <td>inf</td>\n",
       "      <td>0.000</td>\n",
       "      <td>8.148707e+160</td>\n",
       "      <td>NaN</td>\n",
       "      <td>NaN</td>\n",
       "      <td>693.0</td>\n",
       "      <td>412.0</td>\n",
       "      <td>NaN</td>\n",
       "    </tr>\n",
       "    <tr>\n",
       "      <th>mu_c[9758]</th>\n",
       "      <td>1.477999e+236</td>\n",
       "      <td>inf</td>\n",
       "      <td>0.000</td>\n",
       "      <td>8.148707e+160</td>\n",
       "      <td>NaN</td>\n",
       "      <td>NaN</td>\n",
       "      <td>693.0</td>\n",
       "      <td>412.0</td>\n",
       "      <td>NaN</td>\n",
       "    </tr>\n",
       "    <tr>\n",
       "      <th>mu_c[9759]</th>\n",
       "      <td>1.477999e+236</td>\n",
       "      <td>inf</td>\n",
       "      <td>0.000</td>\n",
       "      <td>8.148707e+160</td>\n",
       "      <td>NaN</td>\n",
       "      <td>NaN</td>\n",
       "      <td>693.0</td>\n",
       "      <td>412.0</td>\n",
       "      <td>NaN</td>\n",
       "    </tr>\n",
       "  </tbody>\n",
       "</table>\n",
       "<p>30260 rows × 9 columns</p>\n",
       "</div>"
      ],
      "text/plain": [
       "                         mean     sd  hdi_3%        hdi_97%  mcse_mean  \\\n",
       " betaGini_c0    -1.740000e-01  0.015  -0.203  -1.470000e-01      0.001   \n",
       "betaGini_gamma   1.150000e-01  0.930  -1.524   1.851000e+00      0.035   \n",
       "beta0_c0         1.334300e+01  0.505  12.440   1.428800e+01      0.020   \n",
       "beta0_gamma      7.910000e-01  0.604   0.002   1.917000e+00      0.022   \n",
       "sigma_c[0,0]     7.493000e+00  1.267   5.254   9.921000e+00      0.041   \n",
       "...                       ...    ...     ...            ...        ...   \n",
       "mu_c[9755]      1.477999e+236    inf   0.000  8.148707e+160        NaN   \n",
       "mu_c[9756]      1.477999e+236    inf   0.000  8.148707e+160        NaN   \n",
       "mu_c[9757]      1.477999e+236    inf   0.000  8.148707e+160        NaN   \n",
       "mu_c[9758]      1.477999e+236    inf   0.000  8.148707e+160        NaN   \n",
       "mu_c[9759]      1.477999e+236    inf   0.000  8.148707e+160        NaN   \n",
       "\n",
       "                mcse_sd  ess_bulk  ess_tail  r_hat  \n",
       " betaGini_c0      0.000     631.0     734.0    NaN  \n",
       "betaGini_gamma    0.032     692.0     434.0    NaN  \n",
       "beta0_c0          0.014     663.0     796.0    NaN  \n",
       "beta0_gamma       0.016     448.0     311.0    NaN  \n",
       "sigma_c[0,0]      0.029     985.0     678.0    NaN  \n",
       "...                 ...       ...       ...    ...  \n",
       "mu_c[9755]          NaN     693.0     412.0    NaN  \n",
       "mu_c[9756]          NaN     693.0     412.0    NaN  \n",
       "mu_c[9757]          NaN     693.0     412.0    NaN  \n",
       "mu_c[9758]          NaN     693.0     412.0    NaN  \n",
       "mu_c[9759]          NaN     693.0     412.0    NaN  \n",
       "\n",
       "[30260 rows x 9 columns]"
      ]
     },
     "execution_count": 14,
     "metadata": {},
     "output_type": "execute_result"
    }
   ],
   "source": [
    "import warnings\n",
    "warnings.filterwarnings('ignore')\n",
    "az.summary(trace)"
   ]
  },
  {
   "cell_type": "code",
   "execution_count": 15,
   "metadata": {},
   "outputs": [
    {
     "data": {
      "text/html": [
       "<div>\n",
       "<style scoped>\n",
       "    .dataframe tbody tr th:only-of-type {\n",
       "        vertical-align: middle;\n",
       "    }\n",
       "\n",
       "    .dataframe tbody tr th {\n",
       "        vertical-align: top;\n",
       "    }\n",
       "\n",
       "    .dataframe thead th {\n",
       "        text-align: right;\n",
       "    }\n",
       "</style>\n",
       "<table border=\"1\" class=\"dataframe\">\n",
       "  <thead>\n",
       "    <tr style=\"text-align: right;\">\n",
       "      <th></th>\n",
       "      <th>mean</th>\n",
       "      <th>sd</th>\n",
       "      <th>hdi_3%</th>\n",
       "      <th>hdi_97%</th>\n",
       "      <th>mcse_mean</th>\n",
       "      <th>mcse_sd</th>\n",
       "      <th>ess_bulk</th>\n",
       "      <th>ess_tail</th>\n",
       "      <th>r_hat</th>\n",
       "    </tr>\n",
       "  </thead>\n",
       "  <tbody>\n",
       "    <tr>\n",
       "      <th>betaGini_c0</th>\n",
       "      <td>-0.174</td>\n",
       "      <td>0.015</td>\n",
       "      <td>-0.203</td>\n",
       "      <td>-0.147</td>\n",
       "      <td>0.001</td>\n",
       "      <td>0.000</td>\n",
       "      <td>631.0</td>\n",
       "      <td>734.0</td>\n",
       "      <td>NaN</td>\n",
       "    </tr>\n",
       "    <tr>\n",
       "      <th>betaGini_gamma</th>\n",
       "      <td>0.115</td>\n",
       "      <td>0.930</td>\n",
       "      <td>-1.524</td>\n",
       "      <td>1.851</td>\n",
       "      <td>0.035</td>\n",
       "      <td>0.032</td>\n",
       "      <td>692.0</td>\n",
       "      <td>434.0</td>\n",
       "      <td>NaN</td>\n",
       "    </tr>\n",
       "    <tr>\n",
       "      <th>beta0_c0</th>\n",
       "      <td>13.343</td>\n",
       "      <td>0.505</td>\n",
       "      <td>12.440</td>\n",
       "      <td>14.288</td>\n",
       "      <td>0.020</td>\n",
       "      <td>0.014</td>\n",
       "      <td>663.0</td>\n",
       "      <td>796.0</td>\n",
       "      <td>NaN</td>\n",
       "    </tr>\n",
       "    <tr>\n",
       "      <th>beta0_gamma</th>\n",
       "      <td>0.791</td>\n",
       "      <td>0.604</td>\n",
       "      <td>0.002</td>\n",
       "      <td>1.917</td>\n",
       "      <td>0.022</td>\n",
       "      <td>0.016</td>\n",
       "      <td>448.0</td>\n",
       "      <td>311.0</td>\n",
       "      <td>NaN</td>\n",
       "    </tr>\n",
       "    <tr>\n",
       "      <th>sigma_c[0,0]</th>\n",
       "      <td>7.493</td>\n",
       "      <td>1.267</td>\n",
       "      <td>5.254</td>\n",
       "      <td>9.921</td>\n",
       "      <td>0.041</td>\n",
       "      <td>0.029</td>\n",
       "      <td>985.0</td>\n",
       "      <td>678.0</td>\n",
       "      <td>NaN</td>\n",
       "    </tr>\n",
       "    <tr>\n",
       "      <th>...</th>\n",
       "      <td>...</td>\n",
       "      <td>...</td>\n",
       "      <td>...</td>\n",
       "      <td>...</td>\n",
       "      <td>...</td>\n",
       "      <td>...</td>\n",
       "      <td>...</td>\n",
       "      <td>...</td>\n",
       "      <td>...</td>\n",
       "    </tr>\n",
       "    <tr>\n",
       "      <th>gamma[9755]</th>\n",
       "      <td>4.567</td>\n",
       "      <td>30.403</td>\n",
       "      <td>-51.332</td>\n",
       "      <td>59.336</td>\n",
       "      <td>1.132</td>\n",
       "      <td>1.070</td>\n",
       "      <td>694.0</td>\n",
       "      <td>412.0</td>\n",
       "      <td>NaN</td>\n",
       "    </tr>\n",
       "    <tr>\n",
       "      <th>gamma[9756]</th>\n",
       "      <td>4.567</td>\n",
       "      <td>30.403</td>\n",
       "      <td>-51.332</td>\n",
       "      <td>59.336</td>\n",
       "      <td>1.132</td>\n",
       "      <td>1.070</td>\n",
       "      <td>694.0</td>\n",
       "      <td>412.0</td>\n",
       "      <td>NaN</td>\n",
       "    </tr>\n",
       "    <tr>\n",
       "      <th>gamma[9757]</th>\n",
       "      <td>4.567</td>\n",
       "      <td>30.403</td>\n",
       "      <td>-51.332</td>\n",
       "      <td>59.336</td>\n",
       "      <td>1.132</td>\n",
       "      <td>1.070</td>\n",
       "      <td>694.0</td>\n",
       "      <td>412.0</td>\n",
       "      <td>NaN</td>\n",
       "    </tr>\n",
       "    <tr>\n",
       "      <th>gamma[9758]</th>\n",
       "      <td>4.567</td>\n",
       "      <td>30.403</td>\n",
       "      <td>-51.332</td>\n",
       "      <td>59.336</td>\n",
       "      <td>1.132</td>\n",
       "      <td>1.070</td>\n",
       "      <td>694.0</td>\n",
       "      <td>412.0</td>\n",
       "      <td>NaN</td>\n",
       "    </tr>\n",
       "    <tr>\n",
       "      <th>gamma[9759]</th>\n",
       "      <td>4.567</td>\n",
       "      <td>30.403</td>\n",
       "      <td>-51.332</td>\n",
       "      <td>59.336</td>\n",
       "      <td>1.132</td>\n",
       "      <td>1.070</td>\n",
       "      <td>694.0</td>\n",
       "      <td>412.0</td>\n",
       "      <td>NaN</td>\n",
       "    </tr>\n",
       "  </tbody>\n",
       "</table>\n",
       "<p>10740 rows × 9 columns</p>\n",
       "</div>"
      ],
      "text/plain": [
       "                  mean      sd  hdi_3%  hdi_97%  mcse_mean  mcse_sd  ess_bulk  \\\n",
       " betaGini_c0    -0.174   0.015  -0.203   -0.147      0.001    0.000     631.0   \n",
       "betaGini_gamma   0.115   0.930  -1.524    1.851      0.035    0.032     692.0   \n",
       "beta0_c0        13.343   0.505  12.440   14.288      0.020    0.014     663.0   \n",
       "beta0_gamma      0.791   0.604   0.002    1.917      0.022    0.016     448.0   \n",
       "sigma_c[0,0]     7.493   1.267   5.254    9.921      0.041    0.029     985.0   \n",
       "...                ...     ...     ...      ...        ...      ...       ...   \n",
       "gamma[9755]      4.567  30.403 -51.332   59.336      1.132    1.070     694.0   \n",
       "gamma[9756]      4.567  30.403 -51.332   59.336      1.132    1.070     694.0   \n",
       "gamma[9757]      4.567  30.403 -51.332   59.336      1.132    1.070     694.0   \n",
       "gamma[9758]      4.567  30.403 -51.332   59.336      1.132    1.070     694.0   \n",
       "gamma[9759]      4.567  30.403 -51.332   59.336      1.132    1.070     694.0   \n",
       "\n",
       "                ess_tail  r_hat  \n",
       " betaGini_c0       734.0    NaN  \n",
       "betaGini_gamma     434.0    NaN  \n",
       "beta0_c0           796.0    NaN  \n",
       "beta0_gamma        311.0    NaN  \n",
       "sigma_c[0,0]       678.0    NaN  \n",
       "...                  ...    ...  \n",
       "gamma[9755]        412.0    NaN  \n",
       "gamma[9756]        412.0    NaN  \n",
       "gamma[9757]        412.0    NaN  \n",
       "gamma[9758]        412.0    NaN  \n",
       "gamma[9759]        412.0    NaN  \n",
       "\n",
       "[10740 rows x 9 columns]"
      ]
     },
     "execution_count": 15,
     "metadata": {},
     "output_type": "execute_result"
    }
   ],
   "source": [
    "az.summary(trace, var_names = [' betaGini_c0', 'betaGini_gamma', 'beta0_c0', 'beta0_gamma', 'sigma_c', 'gamma'])"
   ]
  },
  {
   "cell_type": "code",
   "execution_count": 16,
   "metadata": {},
   "outputs": [
    {
     "data": {
      "text/plain": [
       "array([[<matplotlib.axes._subplots.AxesSubplot object at 0x7f6ef24ccc90>,\n",
       "        <matplotlib.axes._subplots.AxesSubplot object at 0x7f6ef2302bd0>],\n",
       "       [<matplotlib.axes._subplots.AxesSubplot object at 0x7f6eefe99bd0>,\n",
       "        <matplotlib.axes._subplots.AxesSubplot object at 0x7f6eefdf0e10>],\n",
       "       [<matplotlib.axes._subplots.AxesSubplot object at 0x7f6ef4a4bc10>,\n",
       "        <matplotlib.axes._subplots.AxesSubplot object at 0x7f6ef27cf650>],\n",
       "       [<matplotlib.axes._subplots.AxesSubplot object at 0x7f6ef269e8d0>,\n",
       "        <matplotlib.axes._subplots.AxesSubplot object at 0x7f6ef493ad90>]],\n",
       "      dtype=object)"
      ]
     },
     "execution_count": 16,
     "metadata": {},
     "output_type": "execute_result"
    },
    {
     "data": {
      "image/png": "[encoded data removed]",
      "text/plain": [
       "<Figure size 864x576 with 8 Axes>"
      ]
     },
     "metadata": {
      "needs_background": "light"
     },
     "output_type": "display_data"
    }
   ],
   "source": [
    "az.plot_trace(trace, var_names = [' betaGini_c0', 'betaGini_gamma', 'beta0_c0', 'beta0_gamma'])"
   ]
  },
  {
   "cell_type": "code",
   "execution_count": 17,
   "metadata": {},
   "outputs": [
    {
     "data": {
      "text/html": [
       "\n",
       "    <div>\n",
       "        <style>\n",
       "            /* Turns off some styling */\n",
       "            progress {\n",
       "                /* gets rid of default border in Firefox and Opera. */\n",
       "                border: none;\n",
       "                /* Needs to be in here for Safari polyfill so background images work as expected. */\n",
       "                background-size: auto;\n",
       "            }\n",
       "            .progress-bar-interrupted, .progress-bar-interrupted::-webkit-progress-bar {\n",
       "                background: #F44336;\n",
       "            }\n",
       "        </style>\n",
       "      <progress value='1000' class='' max='1000' style='width:300px; height:20px; vertical-align: middle;'></progress>\n",
       "      100.00% [1000/1000 00:04<00:00]\n",
       "    </div>\n",
       "    "
      ],
      "text/plain": [
       "<IPython.core.display.HTML object>"
      ]
     },
     "metadata": {},
     "output_type": "display_data"
    }
   ],
   "source": [
    "with decay_model:\n",
    "    ppc = pm.sample_posterior_predictive(\n",
    "        trace, random_seed=678)"
   ]
  },
  {
   "cell_type": "code",
   "execution_count": 18,
   "metadata": {},
   "outputs": [
    {
     "data": {
      "image/png": "[encoded data removed]",
      "text/plain": [
       "<Figure size 432x288 with 1 Axes>"
      ]
     },
     "metadata": {
      "needs_background": "light"
     },
     "output_type": "display_data"
    }
   ],
   "source": [
    "az.plot_ppc(az.from_pymc3(posterior_predictive=ppc, model=decay_model));"
   ]
  },
  {
   "cell_type": "code",
   "execution_count": null,
   "metadata": {},
   "outputs": [],
   "source": [
    "#THE CC MODEL"
   ]
  },
  {
   "cell_type": "code",
   "execution_count": 10,
   "metadata": {},
   "outputs": [],
   "source": [
    "#standardise Gini score for analysis - we need to do this because model is more complex and won't converge otherwise\n",
    "Gini_unst = Gini\n",
    "Gini = (Gini - np.average(Gini)) / (np.std(Gini))"
   ]
  },
  {
   "cell_type": "code",
   "execution_count": 11,
   "metadata": {},
   "outputs": [],
   "source": [
    "import theano.tensor as tsr #found code on stackoverflow\n",
    "\n",
    "def probit_phi(x):\n",
    "    \"\"\" Probit transform assuming 0 mean and 1 sd \"\"\"\n",
    "    mu = 0\n",
    "    sd = 1\n",
    "    return 0.5 * (1 + tsr.erf((x - mu) / (sd * tsr.sqrt(2))))"
   ]
  },
  {
   "cell_type": "code",
   "execution_count": 12,
   "metadata": {},
   "outputs": [],
   "source": [
    "Gini_mat = np.array([Gini,Gini,Gini,Gini])\n",
    "\n",
    "Trials_mat = np.array([0,1,2,3,4,5,6,7,8,9])\n",
    "Trials_mat = np.array([Trials_mat,Trials_mat,Trials_mat,Trials_mat]).T\n",
    "Trials_mat = Trials_mat[:,:,None]\n",
    "Trials_mat.shape\n",
    "\n",
    "values = np.array([vals,vals,vals,vals]).T\n",
    "values = values[:,:,None]\n"
   ]
  },
  {
   "cell_type": "code",
   "execution_count": null,
   "metadata": {},
   "outputs": [],
   "source": [
    "# NOTE: the following model should be conceptually identical to the original\n",
    "# it appears, however, that at some point in the estimate some parameter gets extremely small\n",
    "# or extremely large and a division by 0 occurs. A better transform should scale parameters up\n",
    "# so as to avoid this. We are not exactly sure where to put our hands tho."
   ]
  },
  {
   "cell_type": "code",
   "execution_count": 13,
   "metadata": {
    "collapsed": true
   },
   "outputs": [
    {
     "data": {
      "text/html": [
       "\n",
       "    <div>\n",
       "        <style>\n",
       "            /* Turns off some styling */\n",
       "            progress {\n",
       "                /* gets rid of default border in Firefox and Opera. */\n",
       "                border: none;\n",
       "                /* Needs to be in here for Safari polyfill so background images work as expected. */\n",
       "                background-size: auto;\n",
       "            }\n",
       "            .progress-bar-interrupted, .progress-bar-interrupted::-webkit-progress-bar {\n",
       "                background: #F44336;\n",
       "            }\n",
       "        </style>\n",
       "      <progress value='0' class='progress-bar-interrupted' max='600' style='width:300px; height:20px; vertical-align: middle;'></progress>\n",
       "      Interrupted\n",
       "    </div>\n",
       "    "
      ],
      "text/plain": [
       "<IPython.core.display.HTML object>"
      ]
     },
     "metadata": {},
     "output_type": "display_data"
    },
    {
     "name": "stderr",
     "output_type": "stream",
     "text": [
      "/home/naeghil/miniconda3/lib/python3.8/site-packages/pymc3/step_methods/hmc/quadpotential.py:224: RuntimeWarning: divide by zero encountered in true_divide\n",
      "  np.divide(1, self._stds, out=self._inv_stds)\n",
      "/home/naeghil/miniconda3/lib/python3.8/site-packages/pymc3/step_methods/hmc/quadpotential.py:203: RuntimeWarning: invalid value encountered in multiply\n",
      "  return np.multiply(self._var, x, out=out)\n"
     ]
    },
    {
     "data": {
      "text/html": [
       "\n",
       "    <div>\n",
       "        <style>\n",
       "            /* Turns off some styling */\n",
       "            progress {\n",
       "                /* gets rid of default border in Firefox and Opera. */\n",
       "                border: none;\n",
       "                /* Needs to be in here for Safari polyfill so background images work as expected. */\n",
       "                background-size: auto;\n",
       "            }\n",
       "            .progress-bar-interrupted, .progress-bar-interrupted::-webkit-progress-bar {\n",
       "                background: #F44336;\n",
       "            }\n",
       "        </style>\n",
       "      <progress value='0' class='progress-bar-interrupted' max='600' style='width:300px; height:20px; vertical-align: middle;'></progress>\n",
       "      Interrupted\n",
       "    </div>\n",
       "    "
      ],
      "text/plain": [
       "<IPython.core.display.HTML object>"
      ]
     },
     "metadata": {},
     "output_type": "display_data"
    },
    {
     "name": "stderr",
     "output_type": "stream",
     "text": [
      "/home/naeghil/miniconda3/lib/python3.8/site-packages/pymc3/step_methods/hmc/quadpotential.py:224: RuntimeWarning: divide by zero encountered in true_divide\n",
      "  np.divide(1, self._stds, out=self._inv_stds)\n",
      "/home/naeghil/miniconda3/lib/python3.8/site-packages/pymc3/step_methods/hmc/quadpotential.py:203: RuntimeWarning: invalid value encountered in multiply\n",
      "  return np.multiply(self._var, x, out=out)\n"
     ]
    },
    {
     "data": {
      "text/html": [
       "\n",
       "    <div>\n",
       "        <style>\n",
       "            /* Turns off some styling */\n",
       "            progress {\n",
       "                /* gets rid of default border in Firefox and Opera. */\n",
       "                border: none;\n",
       "                /* Needs to be in here for Safari polyfill so background images work as expected. */\n",
       "                background-size: auto;\n",
       "            }\n",
       "            .progress-bar-interrupted, .progress-bar-interrupted::-webkit-progress-bar {\n",
       "                background: #F44336;\n",
       "            }\n",
       "        </style>\n",
       "      <progress value='35' class='' max='600' style='width:300px; height:20px; vertical-align: middle;'></progress>\n",
       "      5.83% [35/600 00:07<02:05 Sampling chain 0, 0 divergences]\n",
       "    </div>\n",
       "    "
      ],
      "text/plain": [
       "<IPython.core.display.HTML object>"
      ]
     },
     "metadata": {},
     "output_type": "display_data"
    },
    {
     "name": "stderr",
     "output_type": "stream",
     "text": [
      "/home/naeghil/miniconda3/lib/python3.8/site-packages/numpy/core/fromnumeric.py:3372: RuntimeWarning: Mean of empty slice.\n",
      "  return _methods._mean(a, axis=axis, dtype=dtype,\n",
      "/home/naeghil/miniconda3/lib/python3.8/site-packages/numpy/core/_methods.py:170: RuntimeWarning: invalid value encountered in double_scalars\n",
      "  ret = ret.dtype.type(ret / rcount)\n"
     ]
    },
    {
     "data": {
      "text/html": [
       "\n",
       "    <div>\n",
       "        <style>\n",
       "            /* Turns off some styling */\n",
       "            progress {\n",
       "                /* gets rid of default border in Firefox and Opera. */\n",
       "                border: none;\n",
       "                /* Needs to be in here for Safari polyfill so background images work as expected. */\n",
       "                background-size: auto;\n",
       "            }\n",
       "            .progress-bar-interrupted, .progress-bar-interrupted::-webkit-progress-bar {\n",
       "                background: #F44336;\n",
       "            }\n",
       "        </style>\n",
       "      <progress value='181' class='' max='600' style='width:300px; height:20px; vertical-align: middle;'></progress>\n",
       "      30.17% [181/600 01:31<03:32 Sampling chain 0, 0 divergences]\n",
       "    </div>\n",
       "    "
      ],
      "text/plain": [
       "<IPython.core.display.HTML object>"
      ]
     },
     "metadata": {},
     "output_type": "display_data"
    },
    {
     "name": "stdout",
     "output_type": "stream",
     "text": [
      "8\n"
     ]
    }
   ],
   "source": [
    "from pymc3.math import switch, lt\n",
    "\n",
    "\n",
    "with pm.Model() as CC_Gini:\n",
    "    #beta0_pbeta = 1\n",
    "    beta0_pbeta = pm.Normal('beta0_pbeta', mu = 0, sigma = 1)\n",
    "    #betaGini_pbeta = 1\n",
    "    betaGini_pbeta = pm.Normal('betaGini_pbeta', mu = 0, sigma = 1)\n",
    "    \n",
    "    #------------------------- Individual regression priors -------------------------------------------\n",
    "    mu_pbeta_probit = pm.Deterministic('mu_pbeta_probit', beta0_pbeta + (betaGini_pbeta*Gini_mat))\n",
    "    #mu_pbeta_probit = 1\n",
    "    sigma_pbeta = pm.Uniform('sigma_pbeta', 1, 100, shape = (4, 244)) #concentration parameter for reparameterised beta distribution\n",
    "    #sigma_pbeta = 1\n",
    "    # reparameterising beta prior for slope of beliefs/preferences  in CC model                                                                \n",
    "    mu_pbeta = probit_phi(mu_pbeta_probit) # probit descale - - mean for cond is lower than overall\n",
    "    # In the paper, the sigma is added; in the code it's multiplied; we are adding\n",
    "    shape1_pbeta = mu_pbeta+sigma_pbeta\n",
    "    shape2_pbeta = (1 - mu_pbeta)+sigma_pbeta\n",
    "\n",
    "    #------------------------- Model level priors ------------------------------------------------------\n",
    "    #---------------------------------------------------------------------------------------------------                                                                     \n",
    "    #decay rate in weighting of beliefs about others - prefs dominate over time\n",
    "    lam = pm.Beta('lam', 1,1, shape = (4,244))                                                                    \n",
    "    #parameter weighting of beliefs about what others will contribute, relative to observed contribution     \n",
    "    gamma = pm.Beta('gamma', 1,1, shape = (4,244))                                                                         \n",
    "    #~ dunif(0,20) #intercept of linear model relating preferred contributions to possible contribution values\n",
    "    p0 = pm.Uniform('p0', 0,20, shape = (4,244))\n",
    "    #slope of linear model relating preferred contributions to possible contribution values                                                                     \n",
    "    pbeta = pm.Beta('pbeta', shape1_pbeta+1,shape2_pbeta+1, shape = (4,244)) # TODO: check for no +1                                                                    \n",
    "    \n",
    "    #vector of preferred contributions for each possible value - linear relationship\n",
    "    pvals = pm.Deterministic('pvals', p0 + (pbeta * values)) # pvals[i, s, g]\n",
    " \n",
    "    #assume beliefs about others on first trial is reflected in first contribution. Simplification for model.\n",
    "    #make a matrix with the shape of 4 , 10, 244\n",
    "    Gb0 = c[:,0,:,0].flatten()\n",
    "    #initial weighting of beliefs about others contributions in choice of own contribution, relative to prefs\n",
    "    Om0 = pm.Beta('omega0', 1,1, shape = (4*244))\n",
    "    Muc0 = np.array([Ga[0,:,0], Ga[0,:,0], Ga[0,:,0], Ga[0,:,0]]).flatten() \n",
    "    Outcome0 = pm.Normal('Outcome0', Muc0,0.1, observed = data[data['trial']==0].value)\n",
    "   \n",
    "   \n",
    "    Gb = []\n",
    "    Om = []\n",
    "    Muc = []\n",
    "    Outcome = []\n",
    "\n",
    "    Om.append(Om0)\n",
    "    Gb.append(Gb0)\n",
    "    Muc.append(Muc0)\n",
    "    Outcome.append(Outcome0)\n",
    "    \n",
    "    for i in range(1,10):\n",
    "        datat = data[data['trial']==i]\n",
    "        sid = pd.Categorical(datat.person).codes\n",
    "        gid = pd.Categorical(datat.group).codes\n",
    "        Om.append(pm.Deterministic('omega'+str(i), Om[i-1]*(1-lam[sid,gid])))\n",
    "        # We chose to ceil Gb to avoid issues with pvals\n",
    "        Gb.append(pm.Deterministic('Gb'+str(i), Gb[i-1]*gamma[sid,gid]+(1-gamma[sid,gid] * Ga[i-1, gid,0])))\n",
    "        # Look at what you made me do.\n",
    "        Muc.append(Om[i]*Gb[i] + (1-Om[i])*pvals[\n",
    "            switch(lt(Gb[i], 1),0, switch(lt(Gb[i],2),1, switch(lt(Gb[i],3),2, switch(lt(Gb[i],4),3,\n",
    "            switch(lt(Gb[i],5),4, switch(lt(Gb[i],6),5,switch(lt(Gb[i],7),6,switch(lt(Gb[i],8),7,\n",
    "            switch(lt(Gb[i],9),8,switch(lt(Gb[i],10),9,switch(lt(Gb[i],11),10,switch(lt(Gb[i],12),11,\n",
    "            switch(lt(Gb[i],13),12,switch(lt(Gb[i],14),13,switch(lt(Gb[i],15),14,switch(lt(Gb[i],16),15,\n",
    "            switch(lt(Gb[i],17),16,switch(lt(Gb[i],18),17,switch(lt(Gb[i],19),18,switch(lt(Gb[i],20),19,20)\n",
    "            ))))))))))))))))))), sid,gid])\n",
    "        Outcome.append(pm.Normal('outcome'+str(i), Muc[i], 0.1, observed = data[data['trial']==i].value))\n",
    "    \n",
    "    \n",
    "    \n",
    "    bad_trace = pm.sample(200, tune=400, return_inferencedata = True, chains=1, random_seed = seed)   \n",
    "    "
   ]
  },
  {
   "cell_type": "code",
   "execution_count": null,
   "metadata": {},
   "outputs": [],
   "source": [
    "az.plot_trace(bad_trace, var_names = ['beta0_pbeta', 'betaGini_pbeta', 'mu_pbeta_probit', 'sigma_pbeta'])"
   ]
  }
 ],
 "metadata": {
  "kernelspec": {
   "display_name": "Python 3",
   "language": "python",
   "name": "python3"
  },
  "language_info": {
   "codemirror_mode": {
    "name": "ipython",
    "version": 3
   },
   "file_extension": ".py",
   "mimetype": "text/x-python",
   "name": "python",
   "nbconvert_exporter": "python",
   "pygments_lexer": "ipython3",
   "version": "3.8.3"
  }
 },
 "nbformat": 4,
 "nbformat_minor": 4
}
